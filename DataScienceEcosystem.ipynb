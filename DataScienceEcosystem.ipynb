{
 "cells": [
  {
   "cell_type": "markdown",
   "id": "d041ca7b-8fbe-44a3-845e-3d2f051dfe1a",
   "metadata": {},
   "source": [
    "# Data Science Tools and Ecosystem"
   ]
  },
  {
   "attachments": {},
   "cell_type": "markdown",
   "id": "be6b7468-de63-4ade-b950-9c66930c3ce4",
   "metadata": {},
   "source": [
    "2-title.png:![title](/Users/ngt/Desktop/2-title.png)"
   ]
  },
  {
   "cell_type": "markdown",
   "id": "65c14fb0-07e1-4d0c-91be-a7df48bf4ea3",
   "metadata": {},
   "source": [
    "In this notebook, Data Science Tools and Ecosystem are summarized.\n"
   ]
  },
  {
   "cell_type": "markdown",
   "id": "f697c56a-234f-4cc5-8f61-bcd96a165f60",
   "metadata": {},
   "source": [
    "3-intro.png:![intro](/Users/ngt/Desktop/3-intro.png)"
   ]
  },
  {
   "cell_type": "markdown",
   "id": "fa10e422-6cde-45b3-b62d-786a79cecdfb",
   "metadata": {},
   "source": [
    "Some of the popular languages that Data Scientists use are:\n",
    "1. R\n",
    "2. Python\n",
    "3. SQL\n",
    "4. C++"
   ]
  },
  {
   "cell_type": "markdown",
   "id": "64fe0221-d584-4fcb-b0c5-338d6969e62e",
   "metadata": {},
   "source": [
    "4-dslanguages.png:![languages](/Users/ngt/Desktop/4-dslanguages.png)"
   ]
  },
  {
   "cell_type": "markdown",
   "id": "6d4fb66f-2257-4f0a-995d-ac92703ae0f9",
   "metadata": {},
   "source": [
    "Some of the commonly used libraries used by Data Scientists include:\n",
    "1. NumPy\n",
    "2. Pandas\n",
    "3. Seaborn\n"
   ]
  },
  {
   "cell_type": "markdown",
   "id": "55d32ae3-c09b-409d-af7d-d80df4070eb3",
   "metadata": {},
   "source": [
    "5-dslibraries.png:![languages](/Users/ngt/Desktop/5-dslibraries.png)"
   ]
  },
  {
   "cell_type": "markdown",
   "id": "c225513b-d348-413a-8174-1e7134114904",
   "metadata": {},
   "source": [
    "|Data Science Tools|\n",
    "|------------------|\n",
    "|VS CODE|\n",
    "|Jupyter Notebook |\n",
    "|Jupyter Lite|"
   ]
  },
  {
   "cell_type": "markdown",
   "id": "2b12d3fe-3c4a-406d-b6a6-e991bb61803f",
   "metadata": {},
   "source": [
    "6-dstools.png:![tools](/Users/ngt/Desktop/6-dstools.png)"
   ]
  },
  {
   "cell_type": "markdown",
   "id": "947b9cba-9780-4ecc-a327-a9ba5a0a59c0",
   "metadata": {},
   "source": [
    "### Below are a few examples of evaluating arithmetic expressions in Python"
   ]
  },
  {
   "cell_type": "markdown",
   "id": "807d3db6-6b76-4091-a5a8-be0e2239ec38",
   "metadata": {},
   "source": [
    "7-introarithmetic.png:![arithmetic](/Users/ngt/Desktop/7-introarithmetic.png)"
   ]
  },
  {
   "cell_type": "code",
   "execution_count": 7,
   "id": "4ddc2583-f697-425c-87f6-60bbde35aab4",
   "metadata": {},
   "outputs": [
    {
     "data": {
      "text/plain": [
       "17"
      ]
     },
     "execution_count": 7,
     "metadata": {},
     "output_type": "execute_result"
    }
   ],
   "source": [
    "(3*4)+5"
   ]
  },
  {
   "cell_type": "markdown",
   "id": "9e4f8247-c0b4-4d60-933a-293e31dfd9c4",
   "metadata": {},
   "source": [
    "This a simple arithmetic expression to mutiply then add integers"
   ]
  },
  {
   "cell_type": "markdown",
   "id": "9a348408-21ef-4965-b5a2-b3c3b3fa958c",
   "metadata": {},
   "source": [
    "8-multiplyandaddintegers.png:![multiply](/Users/ngt/Desktop/8-multiplyandaddintegers.png)"
   ]
  },
  {
   "cell_type": "markdown",
   "id": "1f9248a2-a7f0-4396-8775-dd686ef4442e",
   "metadata": {},
   "source": [
    "This will convert 200 minutes to hours by diving by 60"
   ]
  },
  {
   "cell_type": "code",
   "execution_count": 17,
   "id": "5cc9d9e7-a3ba-4711-8b1d-eca478639805",
   "metadata": {},
   "outputs": [
    {
     "data": {
      "text/plain": [
       "3.3333333333333335"
      ]
     },
     "execution_count": 17,
     "metadata": {},
     "output_type": "execute_result"
    }
   ],
   "source": [
    "minutes = 200\n",
    "minutes /= 60\n",
    "minutes"
   ]
  },
  {
   "cell_type": "markdown",
   "id": "f1331ae1-d9c0-4627-9378-4c496ea8793d",
   "metadata": {},
   "source": [
    "9-hourstominutes.png:![multiply](/Users/ngt/Desktop/9-hourstominutes.png)"
   ]
  },
  {
   "cell_type": "markdown",
   "id": "2c8d1162-e2c7-406c-9a52-961d1dd76287",
   "metadata": {},
   "source": [
    "Objectives:\n",
    "* List popular languages for Data Science\n",
    "* List popular tools for Data Science\n",
    "* List popular libraries for Data Science"
   ]
  },
  {
   "cell_type": "markdown",
   "id": "c5e35761-1e04-4764-b7a4-44855c7fe72e",
   "metadata": {},
   "source": [
    "10-objectives.png:![multiply](/Users/ngt/Desktop/10-objectives.png)"
   ]
  },
  {
   "cell_type": "markdown",
   "id": "d9687e36-8483-466f-9e41-d8c3885ff55a",
   "metadata": {},
   "source": [
    "## Author \n",
    "Nathan"
   ]
  },
  {
   "cell_type": "markdown",
   "id": "c29bd074-19e4-4638-b790-0d928515a0d9",
   "metadata": {},
   "source": [
    "11-authordetails.png:![multiply](/Users/ngt/Desktop/11-authordetails.png)"
   ]
  },
  {
   "cell_type": "code",
   "execution_count": null,
   "id": "45c3cff6-0cc4-49e9-b9a4-2959d394905f",
   "metadata": {},
   "outputs": [],
   "source": []
  }
 ],
 "metadata": {
  "kernelspec": {
   "display_name": "Python [conda env:base] *",
   "language": "python",
   "name": "conda-base-py"
  },
  "language_info": {
   "codemirror_mode": {
    "name": "ipython",
    "version": 3
   },
   "file_extension": ".py",
   "mimetype": "text/x-python",
   "name": "python",
   "nbconvert_exporter": "python",
   "pygments_lexer": "ipython3",
   "version": "3.13.5"
  }
 },
 "nbformat": 4,
 "nbformat_minor": 5
}
